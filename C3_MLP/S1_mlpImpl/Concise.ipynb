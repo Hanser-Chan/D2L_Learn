{
 "cells": [
  {
   "metadata": {},
   "cell_type": "markdown",
   "source": "# 简洁实现",
   "id": "cb4a5bca8089703"
  },
  {
   "metadata": {
    "ExecuteTime": {
     "end_time": "2025-03-30T04:06:41.811355Z",
     "start_time": "2025-03-30T04:06:39.446694Z"
    }
   },
   "cell_type": "code",
   "source": [
    "import torch\n",
    "from torch import nn\n",
    "from d2l import torch as d2l"
   ],
   "id": "6e421c1f873e769d",
   "outputs": [],
   "execution_count": 1
  },
  {
   "metadata": {},
   "cell_type": "markdown",
   "source": "隐藏层包含256个隐藏单元",
   "id": "b4d5aa065b1f0780"
  },
  {
   "metadata": {
    "ExecuteTime": {
     "end_time": "2025-03-30T04:15:24.546683Z",
     "start_time": "2025-03-30T04:15:24.537994Z"
    }
   },
   "cell_type": "code",
   "source": [
    "net = nn.Sequential(\n",
    "    nn.Flatten(),        # 输入层：展平输入\n",
    "    nn.Linear(784, 256), # 隐藏层：全连接层 + ReLU\n",
    "    nn.ReLU(),\n",
    "    nn.Linear(256, 10)   # 输出层：全连接层（无激活函数）\n",
    ")\n",
    "\n",
    "def init_weights(m):\n",
    "    if type(m) == nn.Linear:\n",
    "        nn.init.normal_(m.weight, std=0.01)\n",
    "\n",
    "net.apply(init_weights);"
   ],
   "id": "e743b8e77639da1e",
   "outputs": [],
   "execution_count": 2
  },
  {
   "metadata": {},
   "cell_type": "markdown",
   "source": "训练过程",
   "id": "f2dbc44ebd405c9e"
  },
  {
   "metadata": {},
   "cell_type": "code",
   "source": [
    "batch_size, lr, num_epochs = 256, 0.1, 10\n",
    "loss = nn.CrossEntropyLoss(reduction='none')\n",
    "trainer = torch.optim.SGD(net.parameters(), lr=lr)\n",
    "\n",
    "train_iter, test_iter = d2l.load_data_fashion_mnist(batch_size)\n",
    "d2l.train_ch3(net, train_iter, test_iter, loss, num_epochs, trainer)"
   ],
   "id": "15acbf2d2ac5819f",
   "execution_count": 3,
   "outputs": []
  }
 ],
 "metadata": {
  "kernelspec": {
   "display_name": "Python 3",
   "language": "python",
   "name": "python3"
  },
  "language_info": {
   "codemirror_mode": {
    "name": "ipython",
    "version": 2
   },
   "file_extension": ".py",
   "mimetype": "text/x-python",
   "name": "python",
   "nbconvert_exporter": "python",
   "pygments_lexer": "ipython2",
   "version": "2.7.6"
  }
 },
 "nbformat": 4,
 "nbformat_minor": 5
}
