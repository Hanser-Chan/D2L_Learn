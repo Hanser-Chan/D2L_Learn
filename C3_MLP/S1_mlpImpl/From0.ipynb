{
 "cells": [
  {
   "metadata": {},
   "cell_type": "markdown",
   "source": [
    "# 多层感知机从零开始实现\n",
    "继续使用Fashion-Mnist数据集\n"
   ],
   "id": "b09bbbeea2eaa4dc"
  },
  {
   "metadata": {
    "ExecuteTime": {
     "end_time": "2025-03-30T04:03:38.017416Z",
     "start_time": "2025-03-30T04:03:37.977184Z"
    }
   },
   "cell_type": "code",
   "source": [
    "import torch\n",
    "from torch import nn\n",
    "from d2l import torch as d2l\n",
    "\n",
    "batch_size = 256\n",
    "train_iter, test_iter = d2l.load_data_fashion_mnist(batch_size)"
   ],
   "id": "b4fc3cbbd6c0937f",
   "outputs": [],
   "execution_count": 8
  },
  {
   "metadata": {},
   "cell_type": "markdown",
   "source": "实现一个具有单隐藏层的多层感知机，包含256个隐藏单元",
   "id": "19e7ff09aaa4994d"
  },
  {
   "metadata": {
    "ExecuteTime": {
     "end_time": "2025-03-30T04:03:38.033181Z",
     "start_time": "2025-03-30T04:03:38.020417Z"
    }
   },
   "cell_type": "code",
   "source": [
    "# 超参数，根据数据集决定，定义256个隐藏单元\n",
    "num_inputs, num_outputs, num_hiddens = 784, 10, 256\n",
    "# 用randn而不用normal，这样不用自己设定方差等参数\n",
    "# *0.01为了避免初始值过大导致梯度爆炸\n",
    "W1 = nn.Parameter(torch.randn(\n",
    "    num_inputs, num_hiddens, requires_grad=True) * 0.01)\n",
    "b1 = nn.Parameter(torch.zeros(num_hiddens, requires_grad=True))\n",
    "W2 = nn.Parameter(torch.randn(\n",
    "    num_hiddens, num_outputs, requires_grad=True) * 0.01)\n",
    "b2 = nn.Parameter(torch.zeros(num_outputs, requires_grad=True))\n",
    "\n",
    "params = [W1, b1, W2, b2]"
   ],
   "id": "e012c063f90ae997",
   "outputs": [],
   "execution_count": 9
  },
  {
   "metadata": {},
   "cell_type": "markdown",
   "source": "实现ReLU函数",
   "id": "4c221d4410fed7cc"
  },
  {
   "metadata": {
    "ExecuteTime": {
     "end_time": "2025-03-30T04:03:38.063321Z",
     "start_time": "2025-03-30T04:03:38.049182Z"
    }
   },
   "cell_type": "code",
   "source": [
    "def relu(X) :\n",
    "    a = torch.zeros_like(X)\n",
    "    return torch.max(X, a)"
   ],
   "id": "51c104cd5c9f7cfd",
   "outputs": [],
   "execution_count": 10
  },
  {
   "metadata": {},
   "cell_type": "markdown",
   "source": "实现模型",
   "id": "ecba43d9dab91fd"
  },
  {
   "metadata": {
    "ExecuteTime": {
     "end_time": "2025-03-30T04:03:38.094218Z",
     "start_time": "2025-03-30T04:03:38.079568Z"
    }
   },
   "cell_type": "code",
   "source": [
    "def net(X) :\n",
    "    X = X.reshape((-1, num_inputs))\n",
    "    H = relu(X @ W1 + b1) # @ 等价于torch.matmul(X, W1) 作矩阵乘法\n",
    "    return (H @ W2 + b2)\n",
    "\n",
    "loss = nn.CrossEntropyLoss(reduction='none')"
   ],
   "id": "9c6959bcf524d29d",
   "outputs": [],
   "execution_count": 11
  },
  {
   "metadata": {},
   "cell_type": "markdown",
   "source": "和softmax训练过程相同",
   "id": "fc84a4d68f6aa0eb"
  },
  {
   "metadata": {},
   "cell_type": "code",
   "source": [
    "num_epochs, lr = 10, 0.1\n",
    "updater = torch.optim.SGD(params, lr=lr)\n",
    "d2l.train_ch3(net, train_iter, test_iter, loss, num_epochs, updater)\n",
    "d2l.plt.show()"
   ],
   "id": "9d7fe7cd202d9578",
   "execution_count": 12,
   "outputs": []
  }
 ],
 "metadata": {
  "kernelspec": {
   "display_name": "Python 3",
   "language": "python",
   "name": "python3"
  },
  "language_info": {
   "codemirror_mode": {
    "name": "ipython",
    "version": 2
   },
   "file_extension": ".py",
   "mimetype": "text/x-python",
   "name": "python",
   "nbconvert_exporter": "python",
   "pygments_lexer": "ipython2",
   "version": "2.7.6"
  }
 },
 "nbformat": 4,
 "nbformat_minor": 5
}
