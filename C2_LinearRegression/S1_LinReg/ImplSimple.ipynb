{
 "cells": [
  {
   "metadata": {},
   "cell_type": "markdown",
   "source": [
    "# 线性回归简洁实现\n",
    "使用框架中的API来简洁的实现"
   ],
   "id": "340679ac1ec7092a"
  },
  {
   "metadata": {
    "ExecuteTime": {
     "end_time": "2025-03-22T06:53:37.914664Z",
     "start_time": "2025-03-22T06:53:37.906780Z"
    }
   },
   "cell_type": "code",
   "source": [
    "import numpy as np\n",
    "import torch\n",
    "from torch.utils import data\n",
    "from d2l import torch as d2l\n",
    "\n",
    "true_w = torch.tensor([2, -3.4])\n",
    "true_b = 4.2\n",
    "features, labels = d2l.synthetic_data(true_w, true_b, 1000)"
   ],
   "id": "607a67ff0fd049a1",
   "outputs": [],
   "execution_count": 10
  },
  {
   "metadata": {},
   "cell_type": "markdown",
   "source": "调用框架中现有的api来读取数据",
   "id": "a94d65d83f71ec9e"
  },
  {
   "metadata": {
    "ExecuteTime": {
     "end_time": "2025-03-22T06:53:37.929757Z",
     "start_time": "2025-03-22T06:53:37.916157Z"
    }
   },
   "cell_type": "code",
   "source": [
    "def load_array(data_arrays, batch_size, is_train=True):\n",
    "    dataset =  data.TensorDataset(*data_arrays)\n",
    "    return data.DataLoader(dataset, batch_size, shuffle=is_train)\n",
    "\n",
    "batch_size = 10\n",
    "data_iter = load_array((features, labels), batch_size)\n",
    "\n",
    "next(iter(data_iter))"
   ],
   "id": "c9ccc69dddff3711",
   "outputs": [
    {
     "data": {
      "text/plain": [
       "[tensor([[ 0.9927, -0.5622],\n",
       "         [-1.0958, -1.3106],\n",
       "         [ 0.8592,  1.1715],\n",
       "         [-0.0952, -0.6862],\n",
       "         [ 0.0056,  0.2361],\n",
       "         [-2.0726, -0.4507],\n",
       "         [-0.2448,  0.2665],\n",
       "         [ 0.7244,  2.4886],\n",
       "         [-0.6798,  0.4057],\n",
       "         [ 0.0598, -0.5394]]),\n",
       " tensor([[ 8.0930],\n",
       "         [ 6.4516],\n",
       "         [ 1.9376],\n",
       "         [ 6.3545],\n",
       "         [ 3.4197],\n",
       "         [ 1.5893],\n",
       "         [ 2.8020],\n",
       "         [-2.8074],\n",
       "         [ 1.4668],\n",
       "         [ 6.1540]])]"
      ]
     },
     "execution_count": 11,
     "metadata": {},
     "output_type": "execute_result"
    }
   ],
   "execution_count": 11
  },
  {
   "metadata": {},
   "cell_type": "markdown",
   "source": "使用框架预定义好的层",
   "id": "efe877af0d2a78b5"
  },
  {
   "metadata": {
    "ExecuteTime": {
     "end_time": "2025-03-22T06:53:37.960643Z",
     "start_time": "2025-03-22T06:53:37.944744Z"
    }
   },
   "cell_type": "code",
   "source": [
    "from torch import nn\n",
    "\n",
    "net = nn.Sequential(nn.Linear(2,1))"
   ],
   "id": "ba2632520882f97e",
   "outputs": [],
   "execution_count": 12
  },
  {
   "metadata": {},
   "cell_type": "markdown",
   "source": "初始化模型参数",
   "id": "c8a9fa0c8e85d2fc"
  },
  {
   "metadata": {
    "ExecuteTime": {
     "end_time": "2025-03-22T06:53:37.986456Z",
     "start_time": "2025-03-22T06:53:37.974758Z"
    }
   },
   "cell_type": "code",
   "source": [
    "net[0].weight.data.normal_(0.0, 0.01) # weight代表w 权重\n",
    "net[0].bias.data.fill_(0) #bias代表b 偏差"
   ],
   "id": "7aab80ac4ecc070",
   "outputs": [
    {
     "data": {
      "text/plain": [
       "tensor([0.])"
      ]
     },
     "execution_count": 13,
     "metadata": {},
     "output_type": "execute_result"
    }
   ],
   "execution_count": 13
  },
  {
   "metadata": {},
   "cell_type": "markdown",
   "source": "计算均方误差使用`MSELoss`，也称平方范数",
   "id": "fb49ee2b7f0e31a7"
  },
  {
   "metadata": {
    "ExecuteTime": {
     "end_time": "2025-03-22T06:53:38.014685Z",
     "start_time": "2025-03-22T06:53:38.000792Z"
    }
   },
   "cell_type": "code",
   "source": "loss = nn.MSELoss()",
   "id": "b483ce5f99d419da",
   "outputs": [],
   "execution_count": 14
  },
  {
   "metadata": {},
   "cell_type": "markdown",
   "source": "实例化SGD实例(stochastic gradient descent 随机梯度下降)",
   "id": "f0da802821db885a"
  },
  {
   "metadata": {
    "ExecuteTime": {
     "end_time": "2025-03-22T06:53:38.045336Z",
     "start_time": "2025-03-22T06:53:38.029792Z"
    }
   },
   "cell_type": "code",
   "source": "trainer = torch.optim.SGD(net.parameters(), lr=0.03)",
   "id": "7718ee97046f99cd",
   "outputs": [],
   "execution_count": 15
  },
  {
   "metadata": {},
   "cell_type": "markdown",
   "source": "训练过程",
   "id": "15f1e8870c2f4152"
  },
  {
   "metadata": {
    "ExecuteTime": {
     "end_time": "2025-03-22T06:53:38.120209Z",
     "start_time": "2025-03-22T06:53:38.061564Z"
    }
   },
   "cell_type": "code",
   "source": [
    "num_epochs = 3\n",
    "for epoch in range(num_epochs):\n",
    "    for X,y in data_iter:\n",
    "        l = loss(net(X), y)\n",
    "        trainer.zero_grad()\n",
    "        l.backward()\n",
    "        trainer.step()\n",
    "    l = loss(net(features), labels)\n",
    "    print(f'epoch {epoch+1}, loss {l:f}')"
   ],
   "id": "5302fe0ff4d13340",
   "outputs": [
    {
     "name": "stdout",
     "output_type": "stream",
     "text": [
      "epoch 1, loss 0.000198\n",
      "epoch 2, loss 0.000093\n",
      "epoch 3, loss 0.000094\n"
     ]
    }
   ],
   "execution_count": 16
  },
  {
   "metadata": {
    "ExecuteTime": {
     "end_time": "2025-03-22T06:54:45.236479Z",
     "start_time": "2025-03-22T06:54:45.227509Z"
    }
   },
   "cell_type": "code",
   "source": [
    "w = net[0].weight.data\n",
    "print('w的估计误差：', true_w - w.reshape(true_w.shape))\n",
    "b = net[0].bias.data\n",
    "print('b的估计误差：', true_b - b)"
   ],
   "id": "b98beb23f7e48332",
   "outputs": [
    {
     "name": "stdout",
     "output_type": "stream",
     "text": [
      "w的估计误差： tensor([-0.0001,  0.0009])\n",
      "b的估计误差： tensor([0.0007])\n"
     ]
    }
   ],
   "execution_count": 17
  }
 ],
 "metadata": {
  "kernelspec": {
   "display_name": "Python 3",
   "language": "python",
   "name": "python3"
  },
  "language_info": {
   "codemirror_mode": {
    "name": "ipython",
    "version": 2
   },
   "file_extension": ".py",
   "mimetype": "text/x-python",
   "name": "python",
   "nbconvert_exporter": "python",
   "pygments_lexer": "ipython2",
   "version": "2.7.6"
  }
 },
 "nbformat": 4,
 "nbformat_minor": 5
}
