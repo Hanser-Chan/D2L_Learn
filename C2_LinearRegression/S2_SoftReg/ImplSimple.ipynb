{
 "cells": [
  {
   "metadata": {},
   "cell_type": "markdown",
   "source": [
    "# Softmax回归简洁实现\n",
    "使用框架提供API实现softmax回归"
   ],
   "id": "d461437a4c37d0d1"
  },
  {
   "metadata": {
    "ExecuteTime": {
     "end_time": "2025-03-24T07:58:49.858502Z",
     "start_time": "2025-03-24T07:58:26.015440Z"
    }
   },
   "cell_type": "code",
   "source": [
    "import torch\n",
    "from torch import nn\n",
    "from d2l import torch as d2l\n",
    "\n",
    "batch_size = 256\n",
    "train_iter, test_iter = d2l.load_data_fashion_mnist(batch_size)"
   ],
   "id": "7bf01bc93a510697",
   "outputs": [
    {
     "name": "stderr",
     "output_type": "stream",
     "text": [
      "100.0%\n",
      "100.0%\n",
      "100.0%\n",
      "100.0%\n"
     ]
    }
   ],
   "execution_count": 1
  },
  {
   "metadata": {},
   "cell_type": "markdown",
   "source": [
    "Softmax回归的输出层是一个全连接层\n",
    "> 注：\n",
    ">\n",
    "> Pytorch不会隐式调整输入的形状，需要使用到`nn.Flatten()`将维度降至2"
   ],
   "id": "8a5c8ee4a2e04ad0"
  },
  {
   "metadata": {
    "ExecuteTime": {
     "end_time": "2025-03-24T07:59:01.144388Z",
     "start_time": "2025-03-24T07:59:01.135342Z"
    }
   },
   "cell_type": "code",
   "source": [
    "net = nn.Sequential(nn.Flatten(), nn.Linear(784, 10))\n",
    "\n",
    "def init_weights(m):\n",
    "    if type(m) == nn.Linear:\n",
    "        nn.init.normal_(m.weight, std=0.01)\n",
    "\n",
    "net.apply(init_weights)"
   ],
   "id": "10b09871f6da3455",
   "outputs": [
    {
     "data": {
      "text/plain": [
       "Sequential(\n",
       "  (0): Flatten(start_dim=1, end_dim=-1)\n",
       "  (1): Linear(in_features=784, out_features=10, bias=True)\n",
       ")"
      ]
     },
     "execution_count": 2,
     "metadata": {},
     "output_type": "execute_result"
    }
   ],
   "execution_count": 2
  },
  {
   "metadata": {},
   "cell_type": "markdown",
   "source": "在交叉熵损失函数中传递未归一化的预测，并同时计算softmax及其对数",
   "id": "9f8adfdd7f32bc46"
  },
  {
   "metadata": {},
   "cell_type": "code",
   "outputs": [],
   "execution_count": null,
   "source": "loss = nn.CrossEntropyLoss()",
   "id": "6206c81a377344e1"
  },
  {
   "metadata": {},
   "cell_type": "markdown",
   "source": "使用学习率为0.1的小批量随机梯度下降",
   "id": "de7104295c3a04b7"
  },
  {
   "metadata": {},
   "cell_type": "code",
   "outputs": [],
   "execution_count": null,
   "source": "trainer = torch.optim.SGD(net.parameters(), lr=0.1)",
   "id": "3288bd070e52f9b7"
  },
  {
   "metadata": {},
   "cell_type": "markdown",
   "source": "",
   "id": "ec605acf0623ce9a"
  },
  {
   "metadata": {},
   "cell_type": "code",
   "outputs": [],
   "execution_count": null,
   "source": [
    "num_epochs = 10\n",
    "d2l.train_ch3(net, train_iter, test_iter, loss, num_epochs, trainer)"
   ],
   "id": "6db69cd7d8b71970"
  }
 ],
 "metadata": {
  "kernelspec": {
   "display_name": "Python 3",
   "language": "python",
   "name": "python3"
  },
  "language_info": {
   "codemirror_mode": {
    "name": "ipython",
    "version": 2
   },
   "file_extension": ".py",
   "mimetype": "text/x-python",
   "name": "python",
   "nbconvert_exporter": "python",
   "pygments_lexer": "ipython2",
   "version": "2.7.6"
  }
 },
 "nbformat": 4,
 "nbformat_minor": 5
}
