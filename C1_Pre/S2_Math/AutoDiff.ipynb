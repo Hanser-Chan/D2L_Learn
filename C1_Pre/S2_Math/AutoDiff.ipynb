{
 "cells": [
  {
   "metadata": {},
   "cell_type": "markdown",
   "source": [
    "# 自动微分\n",
    "> 这章需要尝试理解矩阵求导的`分子布局`或`分母布局`、梯度\n",
    ">\n",
    "> 当然还有微积分中的偏导数、链式法则等\n"
   ],
   "id": "d9b968abacc7897c"
  },
  {
   "metadata": {},
   "cell_type": "markdown",
   "source": "现假设我们相对$y=2x^Tx$关于列向量x求导",
   "id": "b0c38deda04e74b9"
  },
  {
   "metadata": {
    "ExecuteTime": {
     "end_time": "2025-03-18T03:31:20.094311Z",
     "start_time": "2025-03-18T03:31:14.713975Z"
    }
   },
   "cell_type": "code",
   "source": [
    "import torch\n",
    "\n",
    "x = torch.arange(4.0)\n",
    "x"
   ],
   "id": "c84a502a2d97c0b3",
   "outputs": [
    {
     "data": {
      "text/plain": [
       "tensor([0., 1., 2., 3.])"
      ]
     },
     "execution_count": 1,
     "metadata": {},
     "output_type": "execute_result"
    }
   ],
   "execution_count": 1
  },
  {
   "metadata": {},
   "cell_type": "markdown",
   "source": "在计算$y$关于$x$的梯度前，需要一个地方存储梯度",
   "id": "b27858bf999ffbc3"
  },
  {
   "metadata": {
    "ExecuteTime": {
     "end_time": "2025-03-18T03:32:44.698138Z",
     "start_time": "2025-03-18T03:32:44.692140Z"
    }
   },
   "cell_type": "code",
   "source": [
    "x.requires_grad_(True) #等价于 x = torch.arange(4.0, requires_grad_(True))\n",
    "x.grad"
   ],
   "id": "bc7a74d42cc06811",
   "outputs": [],
   "execution_count": 2
  },
  {
   "metadata": {},
   "cell_type": "markdown",
   "source": "计算$y$",
   "id": "8f401f3e7575db6c"
  },
  {
   "metadata": {
    "ExecuteTime": {
     "end_time": "2025-03-18T03:34:33.274371Z",
     "start_time": "2025-03-18T03:34:33.262868Z"
    }
   },
   "cell_type": "code",
   "source": [
    "y = 2 * torch.dot(x,x)\n",
    "y"
   ],
   "id": "448fe18f4ec90771",
   "outputs": [
    {
     "data": {
      "text/plain": [
       "tensor(28., grad_fn=<MulBackward0>)"
      ]
     },
     "execution_count": 3,
     "metadata": {},
     "output_type": "execute_result"
    }
   ],
   "execution_count": 3
  },
  {
   "metadata": {},
   "cell_type": "markdown",
   "source": [
    "通过调用反向传播函数来自动计算$y$关于$x$每个分量的梯度\n",
    "\n",
    "> 注：要重新计算时，要么全部清空输出再运行，要么清零已计算的梯度`x.grad.data.zero_()`"
   ],
   "id": "dd1785a74cb2bff0"
  },
  {
   "metadata": {
    "ExecuteTime": {
     "end_time": "2025-03-18T03:35:36.247937Z",
     "start_time": "2025-03-18T03:35:36.200429Z"
    }
   },
   "cell_type": "code",
   "source": [
    "y.backward()\n",
    "x.grad"
   ],
   "id": "cb0852dc15714c84",
   "outputs": [
    {
     "data": {
      "text/plain": [
       "tensor([ 0.,  4.,  8., 12.])"
      ]
     },
     "execution_count": 4,
     "metadata": {},
     "output_type": "execute_result"
    }
   ],
   "execution_count": 4
  },
  {
   "metadata": {
    "ExecuteTime": {
     "end_time": "2025-03-18T03:36:15.671041Z",
     "start_time": "2025-03-18T03:36:15.663041Z"
    }
   },
   "cell_type": "code",
   "source": "x.grad == 4 * x",
   "id": "2fadd04990ae1d31",
   "outputs": [
    {
     "data": {
      "text/plain": [
       "tensor([True, True, True, True])"
      ]
     },
     "execution_count": 5,
     "metadata": {},
     "output_type": "execute_result"
    }
   ],
   "execution_count": 5
  },
  {
   "metadata": {},
   "cell_type": "markdown",
   "source": "现在计算x的另一个函数",
   "id": "4a6564ede89fb08"
  },
  {
   "metadata": {
    "ExecuteTime": {
     "end_time": "2025-03-18T03:41:02.051526Z",
     "start_time": "2025-03-18T03:41:02.030758Z"
    }
   },
   "cell_type": "code",
   "source": [
    "x.grad.zero_()\n",
    "y=x.sum()\n",
    "y.backward()\n",
    "x.grad"
   ],
   "id": "e4af24070bb165cc",
   "outputs": [
    {
     "data": {
      "text/plain": [
       "tensor([1., 1., 1., 1.])"
      ]
     },
     "execution_count": 6,
     "metadata": {},
     "output_type": "execute_result"
    }
   ],
   "execution_count": 6
  },
  {
   "metadata": {},
   "cell_type": "markdown",
   "source": "## 非标量变量",
   "id": "f8fbb8c537d03506"
  },
  {
   "metadata": {
    "ExecuteTime": {
     "end_time": "2025-03-18T03:51:34.785824Z",
     "start_time": "2025-03-18T03:51:34.775825Z"
    }
   },
   "cell_type": "code",
   "source": [
    "x.grad.zero_()\n",
    "y=x*x #这里是向量，下面通过sum转为标量\n",
    "\n",
    "y.sum().backward()\n",
    "x.grad"
   ],
   "id": "5922ac2e80b2ef84",
   "outputs": [
    {
     "data": {
      "text/plain": [
       "tensor([0., 2., 4., 6.])"
      ]
     },
     "execution_count": 7,
     "metadata": {},
     "output_type": "execute_result"
    }
   ],
   "execution_count": 7
  }
 ],
 "metadata": {
  "kernelspec": {
   "display_name": "Python 3",
   "language": "python",
   "name": "python3"
  },
  "language_info": {
   "codemirror_mode": {
    "name": "ipython",
    "version": 2
   },
   "file_extension": ".py",
   "mimetype": "text/x-python",
   "name": "python",
   "nbconvert_exporter": "python",
   "pygments_lexer": "ipython2",
   "version": "2.7.6"
  }
 },
 "nbformat": 4,
 "nbformat_minor": 5
}
