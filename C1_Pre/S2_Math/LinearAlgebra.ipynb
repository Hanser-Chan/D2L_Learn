{
 "cells": [
  {
   "metadata": {},
   "cell_type": "markdown",
   "source": [
    "# 线性代数\n",
    "> 2025.3.15\n",
    "\n",
    "## 标量"
   ],
   "id": "d4a134037f95cc9a"
  },
  {
   "metadata": {
    "ExecuteTime": {
     "end_time": "2025-03-15T05:56:27.460008Z",
     "start_time": "2025-03-15T05:56:27.442459Z"
    }
   },
   "cell_type": "code",
   "source": [
    "import torch\n",
    "x = torch.tensor([3.0])\n",
    "y = torch.tensor([2.0])\n",
    "\n",
    "x+y, x*y, x/y, x**y"
   ],
   "id": "740b15f83d462539",
   "outputs": [
    {
     "data": {
      "text/plain": [
       "(tensor([5.]), tensor([6.]), tensor([1.5000]), tensor([9.]))"
      ]
     },
     "execution_count": 54,
     "metadata": {},
     "output_type": "execute_result"
    }
   ],
   "execution_count": 54
  },
  {
   "metadata": {},
   "cell_type": "markdown",
   "source": [
    "## 向量\n",
    "将向量是为标量值组成的列表"
   ],
   "id": "35c561edb6dfb293"
  },
  {
   "metadata": {
    "ExecuteTime": {
     "end_time": "2025-03-15T05:56:27.520931Z",
     "start_time": "2025-03-15T05:56:27.516931Z"
    }
   },
   "cell_type": "code",
   "source": [
    "x = torch.arange(4, dtype=torch.float32)\n",
    "x"
   ],
   "id": "5665de1ac9eeb0c0",
   "outputs": [
    {
     "data": {
      "text/plain": [
       "tensor([0., 1., 2., 3.])"
      ]
     },
     "execution_count": 55,
     "metadata": {},
     "output_type": "execute_result"
    }
   ],
   "execution_count": 55
  },
  {
   "metadata": {},
   "cell_type": "markdown",
   "source": "通过索引访问任一元素",
   "id": "144bb38c0235b492"
  },
  {
   "metadata": {
    "ExecuteTime": {
     "end_time": "2025-03-15T05:56:27.552504Z",
     "start_time": "2025-03-15T05:56:27.537500Z"
    }
   },
   "cell_type": "code",
   "source": "x[3]",
   "id": "96222399f4f387af",
   "outputs": [
    {
     "data": {
      "text/plain": [
       "tensor(3.)"
      ]
     },
     "execution_count": 56,
     "metadata": {},
     "output_type": "execute_result"
    }
   ],
   "execution_count": 56
  },
  {
   "metadata": {},
   "cell_type": "markdown",
   "source": "访问张量长度和形状",
   "id": "b965388362eb89f5"
  },
  {
   "metadata": {
    "ExecuteTime": {
     "end_time": "2025-03-15T05:56:27.583510Z",
     "start_time": "2025-03-15T05:56:27.568510Z"
    }
   },
   "cell_type": "code",
   "source": "len(x)",
   "id": "e4cb71c690f7c4a6",
   "outputs": [
    {
     "data": {
      "text/plain": [
       "4"
      ]
     },
     "execution_count": 57,
     "metadata": {},
     "output_type": "execute_result"
    }
   ],
   "execution_count": 57
  },
  {
   "metadata": {
    "ExecuteTime": {
     "end_time": "2025-03-15T05:56:27.614163Z",
     "start_time": "2025-03-15T05:56:27.599655Z"
    }
   },
   "cell_type": "code",
   "source": "x.shape",
   "id": "c80b5ebb319a5541",
   "outputs": [
    {
     "data": {
      "text/plain": [
       "torch.Size([4])"
      ]
     },
     "execution_count": 58,
     "metadata": {},
     "output_type": "execute_result"
    }
   ],
   "execution_count": 58
  },
  {
   "metadata": {},
   "cell_type": "markdown",
   "source": [
    "## 矩阵\n",
    "通过指定两个分量来创建一个M*N的矩阵"
   ],
   "id": "3b8c1e3d26699876"
  },
  {
   "metadata": {
    "ExecuteTime": {
     "end_time": "2025-03-15T05:56:27.643972Z",
     "start_time": "2025-03-15T05:56:27.629973Z"
    }
   },
   "cell_type": "code",
   "source": [
    "A = torch.arange(20).reshape(5,4)\n",
    "A"
   ],
   "id": "434a015740dfdd72",
   "outputs": [
    {
     "data": {
      "text/plain": [
       "tensor([[ 0,  1,  2,  3],\n",
       "        [ 4,  5,  6,  7],\n",
       "        [ 8,  9, 10, 11],\n",
       "        [12, 13, 14, 15],\n",
       "        [16, 17, 18, 19]])"
      ]
     },
     "execution_count": 59,
     "metadata": {},
     "output_type": "execute_result"
    }
   ],
   "execution_count": 59
  },
  {
   "metadata": {},
   "cell_type": "markdown",
   "source": "实现矩阵转置",
   "id": "533371197128fb5"
  },
  {
   "metadata": {
    "ExecuteTime": {
     "end_time": "2025-03-15T05:56:27.706621Z",
     "start_time": "2025-03-15T05:56:27.691622Z"
    }
   },
   "cell_type": "code",
   "source": "A.T",
   "id": "61f7a25cba881d64",
   "outputs": [
    {
     "data": {
      "text/plain": [
       "tensor([[ 0,  4,  8, 12, 16],\n",
       "        [ 1,  5,  9, 13, 17],\n",
       "        [ 2,  6, 10, 14, 18],\n",
       "        [ 3,  7, 11, 15, 19]])"
      ]
     },
     "execution_count": 60,
     "metadata": {},
     "output_type": "execute_result"
    }
   ],
   "execution_count": 60
  },
  {
   "metadata": {},
   "cell_type": "markdown",
   "source": "尝试一个对称矩阵，即$A = A^{T}$",
   "id": "584b8db6d95ad67e"
  },
  {
   "metadata": {
    "ExecuteTime": {
     "end_time": "2025-03-15T05:56:27.783851Z",
     "start_time": "2025-03-15T05:56:27.768851Z"
    }
   },
   "cell_type": "code",
   "source": [
    "B = torch.tensor([[1,2,3], [2,0,4], [3,4,5]])\n",
    "B"
   ],
   "id": "18c6c5873ae538b6",
   "outputs": [
    {
     "data": {
      "text/plain": [
       "tensor([[1, 2, 3],\n",
       "        [2, 0, 4],\n",
       "        [3, 4, 5]])"
      ]
     },
     "execution_count": 61,
     "metadata": {},
     "output_type": "execute_result"
    }
   ],
   "execution_count": 61
  },
  {
   "metadata": {
    "ExecuteTime": {
     "end_time": "2025-03-15T05:56:27.861214Z",
     "start_time": "2025-03-15T05:56:27.846709Z"
    }
   },
   "cell_type": "code",
   "source": "B == B.T",
   "id": "370250413e9e9921",
   "outputs": [
    {
     "data": {
      "text/plain": [
       "tensor([[True, True, True],\n",
       "        [True, True, True],\n",
       "        [True, True, True]])"
      ]
     },
     "execution_count": 62,
     "metadata": {},
     "output_type": "execute_result"
    }
   ],
   "execution_count": 62
  },
  {
   "metadata": {},
   "cell_type": "markdown",
   "source": [
    "## 张量及运算\n",
    "矩阵可以如同向量推广，可以构建具有更多轴的数据结构\n",
    "> 注： 下面矩阵中为`reshape(层，行，列)`"
   ],
   "id": "5b9d7c2959900a6"
  },
  {
   "metadata": {
    "ExecuteTime": {
     "end_time": "2025-03-15T05:56:27.970401Z",
     "start_time": "2025-03-15T05:56:27.956391Z"
    }
   },
   "cell_type": "code",
   "source": [
    "X = torch.arange(24).reshape(2,3,4)\n",
    "X"
   ],
   "id": "207ec792fbfda0a7",
   "outputs": [
    {
     "data": {
      "text/plain": [
       "tensor([[[ 0,  1,  2,  3],\n",
       "         [ 4,  5,  6,  7],\n",
       "         [ 8,  9, 10, 11]],\n",
       "\n",
       "        [[12, 13, 14, 15],\n",
       "         [16, 17, 18, 19],\n",
       "         [20, 21, 22, 23]]])"
      ]
     },
     "execution_count": 63,
     "metadata": {},
     "output_type": "execute_result"
    }
   ],
   "execution_count": 63
  },
  {
   "metadata": {},
   "cell_type": "markdown",
   "source": "具有相同形状的张量，任何按元素二元运算的结果是相同形状的张量",
   "id": "73f1a69e1ad38e2c"
  },
  {
   "metadata": {
    "ExecuteTime": {
     "end_time": "2025-03-15T05:56:28.017406Z",
     "start_time": "2025-03-15T05:56:28.002404Z"
    }
   },
   "cell_type": "code",
   "source": [
    "A = torch.arange(20, dtype = torch.float32).reshape(5,4)\n",
    "B = A.clone()\n",
    "A, A+B"
   ],
   "id": "9ca142884dc2a31",
   "outputs": [
    {
     "data": {
      "text/plain": [
       "(tensor([[ 0.,  1.,  2.,  3.],\n",
       "         [ 4.,  5.,  6.,  7.],\n",
       "         [ 8.,  9., 10., 11.],\n",
       "         [12., 13., 14., 15.],\n",
       "         [16., 17., 18., 19.]]),\n",
       " tensor([[ 0.,  2.,  4.,  6.],\n",
       "         [ 8., 10., 12., 14.],\n",
       "         [16., 18., 20., 22.],\n",
       "         [24., 26., 28., 30.],\n",
       "         [32., 34., 36., 38.]]))"
      ]
     },
     "execution_count": 64,
     "metadata": {},
     "output_type": "execute_result"
    }
   ],
   "execution_count": 64
  },
  {
   "metadata": {},
   "cell_type": "markdown",
   "source": "两个矩阵相乘",
   "id": "f480f487f2526489"
  },
  {
   "metadata": {
    "ExecuteTime": {
     "end_time": "2025-03-15T05:56:28.032468Z",
     "start_time": "2025-03-15T05:56:28.025467Z"
    }
   },
   "cell_type": "code",
   "source": "A * B",
   "id": "c165733a0bb4cde",
   "outputs": [
    {
     "data": {
      "text/plain": [
       "tensor([[  0.,   1.,   4.,   9.],\n",
       "        [ 16.,  25.,  36.,  49.],\n",
       "        [ 64.,  81., 100., 121.],\n",
       "        [144., 169., 196., 225.],\n",
       "        [256., 289., 324., 361.]])"
      ]
     },
     "execution_count": 65,
     "metadata": {},
     "output_type": "execute_result"
    }
   ],
   "execution_count": 65
  },
  {
   "metadata": {},
   "cell_type": "markdown",
   "source": "张量加乘上一个标量会自动广播，使得每个元素都会与之相加相乘，不会改变形状",
   "id": "94c3f392291b8f8d"
  },
  {
   "metadata": {
    "ExecuteTime": {
     "end_time": "2025-03-15T05:56:28.093798Z",
     "start_time": "2025-03-15T05:56:28.079796Z"
    }
   },
   "cell_type": "code",
   "source": [
    "a = 2\n",
    "X = torch.arange(24).reshape(2,3,4)\n",
    "a + X, (a * X).shape"
   ],
   "id": "696d0fa225fce444",
   "outputs": [
    {
     "data": {
      "text/plain": [
       "(tensor([[[ 2,  3,  4,  5],\n",
       "          [ 6,  7,  8,  9],\n",
       "          [10, 11, 12, 13]],\n",
       " \n",
       "         [[14, 15, 16, 17],\n",
       "          [18, 19, 20, 21],\n",
       "          [22, 23, 24, 25]]]),\n",
       " torch.Size([2, 3, 4]))"
      ]
     },
     "execution_count": 66,
     "metadata": {},
     "output_type": "execute_result"
    }
   ],
   "execution_count": 66
  },
  {
   "metadata": {},
   "cell_type": "markdown",
   "source": [
    "## 降维\n",
    "计算任意形状张量元素和\n"
   ],
   "id": "5a9b8f1fbd1b445a"
  },
  {
   "metadata": {
    "ExecuteTime": {
     "end_time": "2025-03-15T05:56:28.141070Z",
     "start_time": "2025-03-15T05:56:28.126070Z"
    }
   },
   "cell_type": "code",
   "source": [
    "A = torch.arange(20*2, dtype=torch.float32).reshape(2,5,4)\n",
    "A.shape, A.sum()"
   ],
   "id": "75fcb859477e387",
   "outputs": [
    {
     "data": {
      "text/plain": [
       "(torch.Size([2, 5, 4]), tensor(780.))"
      ]
     },
     "execution_count": 67,
     "metadata": {},
     "output_type": "execute_result"
    }
   ],
   "execution_count": 67
  },
  {
   "metadata": {},
   "cell_type": "markdown",
   "source": [
    "也可以按照指定的轴来求和（维度与维度之间进行求和，从而将改维度值降为0）\n",
    "先打印A记住它原来的样子"
   ],
   "id": "ef42becf125d53ea"
  },
  {
   "metadata": {
    "ExecuteTime": {
     "end_time": "2025-03-15T05:56:28.157073Z",
     "start_time": "2025-03-15T05:56:28.147074Z"
    }
   },
   "cell_type": "code",
   "source": "A",
   "id": "4829e7dedaf5eed1",
   "outputs": [
    {
     "data": {
      "text/plain": [
       "tensor([[[ 0.,  1.,  2.,  3.],\n",
       "         [ 4.,  5.,  6.,  7.],\n",
       "         [ 8.,  9., 10., 11.],\n",
       "         [12., 13., 14., 15.],\n",
       "         [16., 17., 18., 19.]],\n",
       "\n",
       "        [[20., 21., 22., 23.],\n",
       "         [24., 25., 26., 27.],\n",
       "         [28., 29., 30., 31.],\n",
       "         [32., 33., 34., 35.],\n",
       "         [36., 37., 38., 39.]]])"
      ]
     },
     "execution_count": 68,
     "metadata": {},
     "output_type": "execute_result"
    }
   ],
   "execution_count": 68
  },
  {
   "metadata": {},
   "cell_type": "markdown",
   "source": "`axis`表示第几维",
   "id": "9df3b0a853ca44af"
  },
  {
   "metadata": {
    "ExecuteTime": {
     "end_time": "2025-03-15T05:56:28.188014Z",
     "start_time": "2025-03-15T05:56:28.173587Z"
    }
   },
   "cell_type": "code",
   "source": [
    "A_sum_axis0 = A.sum(axis=0)     #层之间进行运算将维度从3降至2\n",
    "A_sum_axis0, A_sum_axis0.shape"
   ],
   "id": "fc6dc766a8978e72",
   "outputs": [
    {
     "data": {
      "text/plain": [
       "(tensor([[20., 22., 24., 26.],\n",
       "         [28., 30., 32., 34.],\n",
       "         [36., 38., 40., 42.],\n",
       "         [44., 46., 48., 50.],\n",
       "         [52., 54., 56., 58.]]),\n",
       " torch.Size([5, 4]))"
      ]
     },
     "execution_count": 69,
     "metadata": {},
     "output_type": "execute_result"
    }
   ],
   "execution_count": 69
  },
  {
   "metadata": {
    "ExecuteTime": {
     "end_time": "2025-03-15T05:56:28.218984Z",
     "start_time": "2025-03-15T05:56:28.203986Z"
    }
   },
   "cell_type": "code",
   "source": [
    "A_sum_axis1 = A.sum(axis=1)     #各行相加,保留层与列，将维度降至2（第二个方括号里的内容相加）\n",
    "A_sum_axis1, A_sum_axis1.shape"
   ],
   "id": "2e4427fbc0348648",
   "outputs": [
    {
     "data": {
      "text/plain": [
       "(tensor([[ 40.,  45.,  50.,  55.],\n",
       "         [140., 145., 150., 155.]]),\n",
       " torch.Size([2, 4]))"
      ]
     },
     "execution_count": 70,
     "metadata": {},
     "output_type": "execute_result"
    }
   ],
   "execution_count": 70
  },
  {
   "metadata": {},
   "cell_type": "markdown",
   "source": "求均值可以用`mean()`或`sum() / numel()`总和除以总数",
   "id": "1d238e8cd320f97e"
  },
  {
   "metadata": {
    "ExecuteTime": {
     "end_time": "2025-03-15T05:56:28.250990Z",
     "start_time": "2025-03-15T05:56:28.235985Z"
    }
   },
   "cell_type": "code",
   "source": "A.mean() ,A.sum() / A.numel()",
   "id": "d61cddd506f6559c",
   "outputs": [
    {
     "data": {
      "text/plain": [
       "(tensor(19.5000), tensor(19.5000))"
      ]
     },
     "execution_count": 71,
     "metadata": {},
     "output_type": "execute_result"
    }
   ],
   "execution_count": 71
  },
  {
   "metadata": {},
   "cell_type": "markdown",
   "source": [
    "### 非降维求和\n",
    "计算总和或均值是保持轴(层)数不变"
   ],
   "id": "c046d4ece4fa555b"
  },
  {
   "metadata": {
    "ExecuteTime": {
     "end_time": "2025-03-15T05:56:28.282497Z",
     "start_time": "2025-03-15T05:56:28.267497Z"
    }
   },
   "cell_type": "code",
   "source": [
    "sum_A = A.sum(axis=1, keepdim=True)\n",
    "sum_A"
   ],
   "id": "d310f2f3f7167355",
   "outputs": [
    {
     "data": {
      "text/plain": [
       "tensor([[[ 40.,  45.,  50.,  55.]],\n",
       "\n",
       "        [[140., 145., 150., 155.]]])"
      ]
     },
     "execution_count": 72,
     "metadata": {},
     "output_type": "execute_result"
    }
   ],
   "execution_count": 72
  },
  {
   "metadata": {},
   "cell_type": "markdown",
   "source": "可以通过广播将`A`除以`sum_A`(维度相同)",
   "id": "6930f6401773ddac"
  },
  {
   "metadata": {
    "ExecuteTime": {
     "end_time": "2025-03-15T05:56:28.314496Z",
     "start_time": "2025-03-15T05:56:28.299497Z"
    }
   },
   "cell_type": "code",
   "source": "A / sum_A",
   "id": "a425c2e67708c01b",
   "outputs": [
    {
     "data": {
      "text/plain": [
       "tensor([[[0.0000, 0.0222, 0.0400, 0.0545],\n",
       "         [0.1000, 0.1111, 0.1200, 0.1273],\n",
       "         [0.2000, 0.2000, 0.2000, 0.2000],\n",
       "         [0.3000, 0.2889, 0.2800, 0.2727],\n",
       "         [0.4000, 0.3778, 0.3600, 0.3455]],\n",
       "\n",
       "        [[0.1429, 0.1448, 0.1467, 0.1484],\n",
       "         [0.1714, 0.1724, 0.1733, 0.1742],\n",
       "         [0.2000, 0.2000, 0.2000, 0.2000],\n",
       "         [0.2286, 0.2276, 0.2267, 0.2258],\n",
       "         [0.2571, 0.2552, 0.2533, 0.2516]]])"
      ]
     },
     "execution_count": 73,
     "metadata": {},
     "output_type": "execute_result"
    }
   ],
   "execution_count": 73
  },
  {
   "metadata": {},
   "cell_type": "markdown",
   "source": "也可以计算某个维度的累积和",
   "id": "f9ae1b454e9c4231"
  },
  {
   "metadata": {
    "ExecuteTime": {
     "end_time": "2025-03-15T05:56:28.345501Z",
     "start_time": "2025-03-15T05:56:28.331497Z"
    }
   },
   "cell_type": "code",
   "source": "A.cumsum(axis=1)",
   "id": "6a780d151063d2c5",
   "outputs": [
    {
     "data": {
      "text/plain": [
       "tensor([[[  0.,   1.,   2.,   3.],\n",
       "         [  4.,   6.,   8.,  10.],\n",
       "         [ 12.,  15.,  18.,  21.],\n",
       "         [ 24.,  28.,  32.,  36.],\n",
       "         [ 40.,  45.,  50.,  55.]],\n",
       "\n",
       "        [[ 20.,  21.,  22.,  23.],\n",
       "         [ 44.,  46.,  48.,  50.],\n",
       "         [ 72.,  75.,  78.,  81.],\n",
       "         [104., 108., 112., 116.],\n",
       "         [140., 145., 150., 155.]]])"
      ]
     },
     "execution_count": 74,
     "metadata": {},
     "output_type": "execute_result"
    }
   ],
   "execution_count": 74
  },
  {
   "metadata": {},
   "cell_type": "markdown",
   "source": [
    "## 矩阵点积\n",
    "相同位置按元素乘积和"
   ],
   "id": "db3d77006a04dfb9"
  },
  {
   "metadata": {
    "ExecuteTime": {
     "end_time": "2025-03-15T05:56:28.375914Z",
     "start_time": "2025-03-15T05:56:28.361565Z"
    }
   },
   "cell_type": "code",
   "source": [
    "y = torch.ones(4, dtype=torch.float32)\n",
    "x, y, torch.dot(x,y)"
   ],
   "id": "7f4ac5c215ac7083",
   "outputs": [
    {
     "data": {
      "text/plain": [
       "(tensor([0., 1., 2., 3.]), tensor([1., 1., 1., 1.]), tensor(6.))"
      ]
     },
     "execution_count": 75,
     "metadata": {},
     "output_type": "execute_result"
    }
   ],
   "execution_count": 75
  },
  {
   "metadata": {},
   "cell_type": "markdown",
   "source": [
    "## 矩阵向量积\n",
    "$Ax$为一个长度为m的列向量"
   ],
   "id": "14a2f444653095a2"
  },
  {
   "metadata": {
    "ExecuteTime": {
     "end_time": "2025-03-15T06:00:18.794801Z",
     "start_time": "2025-03-15T06:00:18.775805Z"
    }
   },
   "cell_type": "code",
   "source": [
    "A = torch.arange(20, dtype = torch.float32).reshape(5,4)\n",
    "A.shape, x.shape, torch.mv(A, x)"
   ],
   "id": "b82130d3f94f0f40",
   "outputs": [
    {
     "data": {
      "text/plain": [
       "(torch.Size([5, 4]), torch.Size([4]), tensor([ 14.,  38.,  62.,  86., 110.]))"
      ]
     },
     "execution_count": 77,
     "metadata": {},
     "output_type": "execute_result"
    }
   ],
   "execution_count": 77
  },
  {
   "metadata": {},
   "cell_type": "markdown",
   "source": "## 矩阵乘法",
   "id": "53e5c5642ad0ab99"
  },
  {
   "metadata": {
    "ExecuteTime": {
     "end_time": "2025-03-15T06:01:47.962606Z",
     "start_time": "2025-03-15T06:01:47.946604Z"
    }
   },
   "cell_type": "code",
   "source": [
    "B = torch.ones(4,3)\n",
    "torch.mm(A, B)"
   ],
   "id": "f4fab0fb738ab40b",
   "outputs": [
    {
     "data": {
      "text/plain": [
       "tensor([[ 6.,  6.,  6.],\n",
       "        [22., 22., 22.],\n",
       "        [38., 38., 38.],\n",
       "        [54., 54., 54.],\n",
       "        [70., 70., 70.]])"
      ]
     },
     "execution_count": 78,
     "metadata": {},
     "output_type": "execute_result"
    }
   ],
   "execution_count": 78
  },
  {
   "metadata": {},
   "cell_type": "markdown",
   "source": [
    "## 范数\n",
    "$L_2$范数是向量元素平方和的平方根"
   ],
   "id": "ed42a33a292e71e2"
  },
  {
   "metadata": {
    "ExecuteTime": {
     "end_time": "2025-03-15T06:04:44.344105Z",
     "start_time": "2025-03-15T06:04:44.338106Z"
    }
   },
   "cell_type": "code",
   "source": [
    "u = torch.tensor([3.0, -4.0])\n",
    "torch.norm(u)"
   ],
   "id": "6e5388e05eabc62d",
   "outputs": [
    {
     "data": {
      "text/plain": [
       "tensor(5.)"
      ]
     },
     "execution_count": 79,
     "metadata": {},
     "output_type": "execute_result"
    }
   ],
   "execution_count": 79
  },
  {
   "metadata": {},
   "cell_type": "markdown",
   "source": "$L_1$范数是向量元素绝对值和",
   "id": "e332a1b053b2d474"
  },
  {
   "metadata": {
    "ExecuteTime": {
     "end_time": "2025-03-15T06:06:16.003505Z",
     "start_time": "2025-03-15T06:06:15.987504Z"
    }
   },
   "cell_type": "code",
   "source": "torch.abs(u).sum()",
   "id": "cdd844a0618ebd15",
   "outputs": [
    {
     "data": {
      "text/plain": [
       "tensor(7.)"
      ]
     },
     "execution_count": 80,
     "metadata": {},
     "output_type": "execute_result"
    }
   ],
   "execution_count": 80
  },
  {
   "metadata": {},
   "cell_type": "markdown",
   "source": [
    "则推广至$L_p$范数：\n",
    "$$\n",
    "\\lvert \\lvert x \\rvert \\rvert_p=(\\sum_{i=1}^{n} \\lvert x_i \\rvert ^p)^\\frac{1}{p}\n",
    "$$\n",
    "\n",
    "类似于$L_2$范数，矩阵的佛罗贝尼乌斯范数是所有元素平方和的平方根"
   ],
   "id": "f1c3a4b516d71d70"
  },
  {
   "metadata": {
    "ExecuteTime": {
     "end_time": "2025-03-15T06:11:59.744882Z",
     "start_time": "2025-03-15T06:11:59.736883Z"
    }
   },
   "cell_type": "code",
   "source": "torch.norm(torch.ones((4,9)))",
   "id": "b9c2e1f1323ab0e8",
   "outputs": [
    {
     "data": {
      "text/plain": [
       "tensor(6.)"
      ]
     },
     "execution_count": 81,
     "metadata": {},
     "output_type": "execute_result"
    }
   ],
   "execution_count": 81
  }
 ],
 "metadata": {
  "kernelspec": {
   "display_name": "Python 3",
   "language": "python",
   "name": "python3"
  },
  "language_info": {
   "codemirror_mode": {
    "name": "ipython",
    "version": 2
   },
   "file_extension": ".py",
   "mimetype": "text/x-python",
   "name": "python",
   "nbconvert_exporter": "python",
   "pygments_lexer": "ipython2",
   "version": "2.7.6"
  }
 },
 "nbformat": 4,
 "nbformat_minor": 5
}
