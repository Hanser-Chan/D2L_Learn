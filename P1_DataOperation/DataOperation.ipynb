{
 "cells": [
  {
   "metadata": {},
   "cell_type": "markdown",
   "source": [
    "# 数据操作\n",
    "> 2025.3.14\n",
    "\n",
    "导入`torch`库"
   ],
   "id": "cbcbd5ccfe40af3d"
  },
  {
   "metadata": {},
   "cell_type": "code",
   "outputs": [],
   "execution_count": null,
   "source": "import torch",
   "id": "ff58b8f7123df746"
  },
  {
   "metadata": {},
   "cell_type": "markdown",
   "source": "`张量`表示一个数值组成的数组，可能有多个维度",
   "id": "a0e3c85b1dc98e7d"
  },
  {
   "metadata": {},
   "cell_type": "code",
   "outputs": [],
   "execution_count": null,
   "source": [
    "x = torch.arange(12)\n",
    "x"
   ],
   "id": "a0ac0e18d735c01f"
  },
  {
   "metadata": {},
   "cell_type": "markdown",
   "source": "通过张量的`shape`属性访问张量的*形状*和张量中的元素总数",
   "id": "6daacabf62b418f5"
  },
  {
   "metadata": {},
   "cell_type": "code",
   "outputs": [],
   "execution_count": null,
   "source": "x.shape",
   "id": "b348d2e2e88b943b"
  },
  {
   "metadata": {},
   "cell_type": "code",
   "outputs": [],
   "execution_count": null,
   "source": "x.numel()",
   "id": "6cdcd95bc10ee2a3"
  },
  {
   "metadata": {},
   "cell_type": "markdown",
   "source": "要改变张量的形状而不改变元素数量和元素值，用`reshape`",
   "id": "eb1e40e54f96655"
  },
  {
   "metadata": {
    "ExecuteTime": {
     "end_time": "2025-03-14T06:02:06.127269Z",
     "start_time": "2025-03-14T06:02:06.120271Z"
    }
   },
   "cell_type": "code",
   "source": [
    "x = x.reshape(3,4)\n",
    "x"
   ],
   "id": "dc064e69664bac52",
   "outputs": [
    {
     "data": {
      "text/plain": [
       "tensor([[ 0,  1,  2,  3],\n",
       "        [ 4,  5,  6,  7],\n",
       "        [ 8,  9, 10, 11]])"
      ]
     },
     "execution_count": 10,
     "metadata": {},
     "output_type": "execute_result"
    }
   ],
   "execution_count": 10
  },
  {
   "metadata": {},
   "cell_type": "markdown",
   "source": [
    "有专用的全0，全1，其他常量或者从特定分布中随机采样的数字的方法\n",
    "> 注：(通道\\*高\\*宽)"
   ],
   "id": "e5e7639eaf7c490c"
  },
  {
   "metadata": {
    "ExecuteTime": {
     "end_time": "2025-03-14T06:01:49.968259Z",
     "start_time": "2025-03-14T06:01:49.960753Z"
    }
   },
   "cell_type": "code",
   "source": "torch.zeros((2,3,4))",
   "id": "11ee09ece1df4de6",
   "outputs": [
    {
     "data": {
      "text/plain": [
       "tensor([[[0., 0., 0., 0.],\n",
       "         [0., 0., 0., 0.],\n",
       "         [0., 0., 0., 0.]],\n",
       "\n",
       "        [[0., 0., 0., 0.],\n",
       "         [0., 0., 0., 0.],\n",
       "         [0., 0., 0., 0.]]])"
      ]
     },
     "execution_count": 9,
     "metadata": {},
     "output_type": "execute_result"
    }
   ],
   "execution_count": 9
  },
  {
   "metadata": {
    "ExecuteTime": {
     "end_time": "2025-03-14T06:03:16.688980Z",
     "start_time": "2025-03-14T06:03:16.675765Z"
    }
   },
   "cell_type": "code",
   "source": "torch.ones((2,3,4))",
   "id": "b41700359bbaa31f",
   "outputs": [
    {
     "data": {
      "text/plain": [
       "tensor([[[1., 1., 1., 1.],\n",
       "         [1., 1., 1., 1.],\n",
       "         [1., 1., 1., 1.]],\n",
       "\n",
       "        [[1., 1., 1., 1.],\n",
       "         [1., 1., 1., 1.],\n",
       "         [1., 1., 1., 1.]]])"
      ]
     },
     "execution_count": 11,
     "metadata": {},
     "output_type": "execute_result"
    }
   ],
   "execution_count": 11
  },
  {
   "metadata": {},
   "cell_type": "markdown",
   "source": [
    "可以用字面量来为张量中每个元素赋予特定值\n",
    "> 注： n个中括号为n维，二维=行*列，三维=层(深度)\\*行\\*列\n",
    ">\n",
    "> 可使用.shape打印维度(形状)"
   ],
   "id": "c09c25cedb05b9aa"
  },
  {
   "metadata": {
    "ExecuteTime": {
     "end_time": "2025-03-14T06:11:37.484110Z",
     "start_time": "2025-03-14T06:11:37.478110Z"
    }
   },
   "cell_type": "code",
   "source": "torch.tensor([[2,1,4,3],[1,2,3,4],[4,3,2,1]])",
   "id": "7c0cbcca508d08f5",
   "outputs": [
    {
     "data": {
      "text/plain": [
       "tensor([[2, 1, 4, 3],\n",
       "        [1, 2, 3, 4],\n",
       "        [4, 3, 2, 1]])"
      ]
     },
     "execution_count": 16,
     "metadata": {},
     "output_type": "execute_result"
    }
   ],
   "execution_count": 16
  },
  {
   "metadata": {
    "ExecuteTime": {
     "end_time": "2025-03-14T06:11:53.049001Z",
     "start_time": "2025-03-14T06:11:53.040Z"
    }
   },
   "cell_type": "code",
   "source": "torch.tensor([[[2,1,4,3],[1,2,3,4],[4,3,2,1]]]) .shape",
   "id": "391b78ec5615b065",
   "outputs": [
    {
     "data": {
      "text/plain": [
       "torch.Size([1, 3, 4])"
      ]
     },
     "execution_count": 17,
     "metadata": {},
     "output_type": "execute_result"
    }
   ],
   "execution_count": 17
  },
  {
   "metadata": {},
   "cell_type": "markdown",
   "source": "常见标准算数运算符(`+`,`-`,`*`,`/`,`**`)可以被升级为按元素运算",
   "id": "937a93920d58bc83"
  },
  {
   "metadata": {
    "ExecuteTime": {
     "end_time": "2025-03-14T06:16:06.032558Z",
     "start_time": "2025-03-14T06:16:06.018556Z"
    }
   },
   "cell_type": "code",
   "source": [
    "a = torch.tensor([1.0, 2, 4, 8]) #1.0声明为浮点数\n",
    "b = torch.tensor([2, 2, 2, 2])\n",
    "a+b,a-b,a*b,a/b,a**b"
   ],
   "id": "b9c6d693a961729d",
   "outputs": [
    {
     "data": {
      "text/plain": [
       "(tensor([ 3.,  4.,  6., 10.]),\n",
       " tensor([-1.,  0.,  2.,  6.]),\n",
       " tensor([ 2.,  4.,  8., 16.]),\n",
       " tensor([0.5000, 1.0000, 2.0000, 4.0000]),\n",
       " tensor([ 1.,  4., 16., 64.]))"
      ]
     },
     "execution_count": 18,
     "metadata": {},
     "output_type": "execute_result"
    }
   ],
   "execution_count": 18
  },
  {
   "metadata": {},
   "cell_type": "markdown",
   "source": [
    "可以把多个张量连结在一起\n",
    "> 注： 使用cat函数，第一个参数为需要连结的张量\n",
    ">\n",
    "> 第二个参数`dim`表示第几维度，维度0=列，维度1=行 (理解为从外到内第几层中括号)"
   ],
   "id": "82e3e53adeb2fcca"
  },
  {
   "metadata": {
    "ExecuteTime": {
     "end_time": "2025-03-14T06:24:15.313551Z",
     "start_time": "2025-03-14T06:24:15.300550Z"
    }
   },
   "cell_type": "code",
   "source": [
    "x = torch.arange(12, dtype=torch.float32).reshape(3,4)\n",
    "y = torch.tensor([[2.0, 1, 4, 3], [1, 2, 3, 4], [4, 3, 2, 1]])\n",
    "torch.cat((x,y),dim=0), torch.cat((x,y),dim=1)"
   ],
   "id": "42477efafff59133",
   "outputs": [
    {
     "data": {
      "text/plain": [
       "(tensor([[ 0.,  1.,  2.,  3.],\n",
       "         [ 4.,  5.,  6.,  7.],\n",
       "         [ 8.,  9., 10., 11.],\n",
       "         [ 2.,  1.,  4.,  3.],\n",
       "         [ 1.,  2.,  3.,  4.],\n",
       "         [ 4.,  3.,  2.,  1.]]),\n",
       " tensor([[ 0.,  1.,  2.,  3.,  2.,  1.,  4.,  3.],\n",
       "         [ 4.,  5.,  6.,  7.,  1.,  2.,  3.,  4.],\n",
       "         [ 8.,  9., 10., 11.,  4.,  3.,  2.,  1.]]))"
      ]
     },
     "execution_count": 19,
     "metadata": {},
     "output_type": "execute_result"
    }
   ],
   "execution_count": 19
  },
  {
   "metadata": {},
   "cell_type": "markdown",
   "source": "通过逻辑运算符构建二元张量",
   "id": "15b87368d707de7b"
  },
  {
   "metadata": {
    "ExecuteTime": {
     "end_time": "2025-03-14T06:26:58.538301Z",
     "start_time": "2025-03-14T06:26:58.527303Z"
    }
   },
   "cell_type": "code",
   "source": "x == y",
   "id": "f4a0ce0c3bf96f6e",
   "outputs": [
    {
     "data": {
      "text/plain": [
       "tensor([[False,  True, False,  True],\n",
       "        [False, False, False, False],\n",
       "        [False, False, False, False]])"
      ]
     },
     "execution_count": 20,
     "metadata": {},
     "output_type": "execute_result"
    }
   ],
   "execution_count": 20
  },
  {
   "metadata": {},
   "cell_type": "markdown",
   "source": "对张量所有元素求和得到一个元素张量",
   "id": "ff64a417a05395e6"
  },
  {
   "metadata": {
    "ExecuteTime": {
     "end_time": "2025-03-14T06:28:27.997979Z",
     "start_time": "2025-03-14T06:28:27.990978Z"
    }
   },
   "cell_type": "code",
   "source": "x.sum()",
   "id": "921171d0f5808a42",
   "outputs": [
    {
     "data": {
      "text/plain": [
       "tensor(66.)"
      ]
     },
     "execution_count": 21,
     "metadata": {},
     "output_type": "execute_result"
    }
   ],
   "execution_count": 21
  },
  {
   "metadata": {},
   "cell_type": "markdown",
   "source": "形状不同，我们可以使用`广播机制`(broadcasting mechanism) 来执行按元素操作 (从numpy来的)",
   "id": "46820578ab68dfbd"
  },
  {
   "metadata": {
    "ExecuteTime": {
     "end_time": "2025-03-14T06:31:20.499625Z",
     "start_time": "2025-03-14T06:31:20.491607Z"
    }
   },
   "cell_type": "code",
   "source": [
    "n = torch.arange(3).reshape((3,1))\n",
    "m = torch.arange(2).reshape((1,2))\n",
    "n,m"
   ],
   "id": "1dd1895286e563a0",
   "outputs": [
    {
     "data": {
      "text/plain": [
       "(tensor([[0],\n",
       "         [1],\n",
       "         [2]]),\n",
       " tensor([[0, 1]]))"
      ]
     },
     "execution_count": 24,
     "metadata": {},
     "output_type": "execute_result"
    }
   ],
   "execution_count": 24
  },
  {
   "metadata": {
    "ExecuteTime": {
     "end_time": "2025-03-14T06:31:19.161687Z",
     "start_time": "2025-03-14T06:31:19.154687Z"
    }
   },
   "cell_type": "code",
   "source": "n + m",
   "id": "9b95ff18d6fdf568",
   "outputs": [
    {
     "data": {
      "text/plain": [
       "tensor([[0, 1],\n",
       "        [1, 2],\n",
       "        [2, 3]])"
      ]
     },
     "execution_count": 23,
     "metadata": {},
     "output_type": "execute_result"
    }
   ],
   "execution_count": 23
  },
  {
   "metadata": {},
   "cell_type": "markdown",
   "source": "可以用`[-1]`选择最后一个元素，可以用`[1:3]`选择第二个和第三个元素",
   "id": "4f5c56a5ce86f0fd"
  },
  {
   "metadata": {
    "ExecuteTime": {
     "end_time": "2025-03-14T06:34:48.963399Z",
     "start_time": "2025-03-14T06:34:48.953398Z"
    }
   },
   "cell_type": "code",
   "source": "x[-1], x[1:3]",
   "id": "27b43711bfb66edf",
   "outputs": [
    {
     "data": {
      "text/plain": [
       "(tensor([ 8.,  9., 10., 11.]),\n",
       " tensor([[ 4.,  5.,  6.,  7.],\n",
       "         [ 8.,  9., 10., 11.]]))"
      ]
     },
     "execution_count": 25,
     "metadata": {},
     "output_type": "execute_result"
    }
   ],
   "execution_count": 25
  },
  {
   "metadata": {},
   "cell_type": "markdown",
   "source": "也可以指定索引来写入元素",
   "id": "ad22d7f1cb888ca9"
  },
  {
   "metadata": {
    "ExecuteTime": {
     "end_time": "2025-03-14T06:36:03.552438Z",
     "start_time": "2025-03-14T06:36:03.535412Z"
    }
   },
   "cell_type": "code",
   "source": [
    "x[1,2] = 9\n",
    "x"
   ],
   "id": "ce8470f382801b44",
   "outputs": [
    {
     "data": {
      "text/plain": [
       "tensor([[ 0.,  1.,  2.,  3.],\n",
       "        [ 4.,  5.,  9.,  7.],\n",
       "        [ 8.,  9., 10., 11.]])"
      ]
     },
     "execution_count": 26,
     "metadata": {},
     "output_type": "execute_result"
    }
   ],
   "execution_count": 26
  },
  {
   "metadata": {},
   "cell_type": "markdown",
   "source": "当然也可以为多个元素赋相同值，只需要索引所有元素并赋值",
   "id": "e3a498190f501f8b"
  },
  {
   "metadata": {
    "ExecuteTime": {
     "end_time": "2025-03-14T06:37:48.553614Z",
     "start_time": "2025-03-14T06:37:48.544108Z"
    }
   },
   "cell_type": "code",
   "source": [
    "x[0:2,:] = 12\n",
    "x"
   ],
   "id": "a8a634d5c19c2a28",
   "outputs": [
    {
     "data": {
      "text/plain": [
       "tensor([[12., 12., 12., 12.],\n",
       "        [12., 12., 12., 12.],\n",
       "        [ 8.,  9., 10., 11.]])"
      ]
     },
     "execution_count": 27,
     "metadata": {},
     "output_type": "execute_result"
    }
   ],
   "execution_count": 27
  },
  {
   "metadata": {},
   "cell_type": "markdown",
   "source": "某些操作会导致为新结果分配内存，我们最好执行原地操作",
   "id": "d59e68d4cf9ce2b3"
  },
  {
   "metadata": {
    "ExecuteTime": {
     "end_time": "2025-03-14T06:41:11.277644Z",
     "start_time": "2025-03-14T06:41:11.260135Z"
    }
   },
   "cell_type": "code",
   "source": [
    "z = torch.zeros_like(y)\n",
    "print('id(z)', id(z))\n",
    "z[:] = x + y\n",
    "print('id(z)', id(z))"
   ],
   "id": "9d36fea21fd2b818",
   "outputs": [
    {
     "name": "stdout",
     "output_type": "stream",
     "text": [
      "id(z) 2157617864848\n",
      "id(z) 2157617864848\n"
     ]
    }
   ],
   "execution_count": 28
  }
 ],
 "metadata": {
  "kernelspec": {
   "display_name": "Python 3 (ipykernel)",
   "language": "python",
   "name": "python3"
  },
  "language_info": {
   "codemirror_mode": {
    "name": "ipython",
    "version": 3
   },
   "file_extension": ".py",
   "mimetype": "text/x-python",
   "name": "python",
   "nbconvert_exporter": "python",
   "pygments_lexer": "ipython3",
   "version": "3.9.21"
  }
 },
 "nbformat": 4,
 "nbformat_minor": 5
}
