{
 "cells": [
  {
   "metadata": {},
   "cell_type": "markdown",
   "source": [
    "# 数据操作\n",
    "导入`torch`库"
   ],
   "id": "76eacd6f1fcbbe6c"
  },
  {
   "metadata": {
    "ExecuteTime": {
     "end_time": "2025-03-14T05:53:15.889673Z",
     "start_time": "2025-03-14T05:53:14.742971Z"
    }
   },
   "cell_type": "code",
   "source": "import torch",
   "id": "3123e829c7b94ee8",
   "outputs": [],
   "execution_count": 2
  },
  {
   "metadata": {},
   "cell_type": "markdown",
   "source": "`张量`表示一个数值组成的数组，可能有多个维度",
   "id": "a7c696fdf532597"
  },
  {
   "metadata": {
    "ExecuteTime": {
     "end_time": "2025-03-14T05:53:16.990887Z",
     "start_time": "2025-03-14T05:53:16.977887Z"
    }
   },
   "cell_type": "code",
   "source": [
    "x = torch.arange(12)\n",
    "x"
   ],
   "id": "5621e1173a56c4cc",
   "outputs": [
    {
     "data": {
      "text/plain": [
       "tensor([ 0,  1,  2,  3,  4,  5,  6,  7,  8,  9, 10, 11])"
      ]
     },
     "execution_count": 3,
     "metadata": {},
     "output_type": "execute_result"
    }
   ],
   "execution_count": 3
  },
  {
   "metadata": {},
   "cell_type": "markdown",
   "source": "通过张量的`shape`属性访问张量的*形状*和张量中的元素总数",
   "id": "5d8f2c3681cb5d8e"
  },
  {
   "metadata": {
    "ExecuteTime": {
     "end_time": "2025-03-14T05:55:29.176795Z",
     "start_time": "2025-03-14T05:55:29.166767Z"
    }
   },
   "cell_type": "code",
   "source": "x.shape",
   "id": "a6fa4cd61ce130dd",
   "outputs": [
    {
     "data": {
      "text/plain": [
       "torch.Size([12])"
      ]
     },
     "execution_count": 4,
     "metadata": {},
     "output_type": "execute_result"
    }
   ],
   "execution_count": 4
  },
  {
   "metadata": {
    "ExecuteTime": {
     "end_time": "2025-03-14T05:55:30.652167Z",
     "start_time": "2025-03-14T05:55:30.643167Z"
    }
   },
   "cell_type": "code",
   "source": "x.numel()",
   "id": "3feb1c9b7b3f20a2",
   "outputs": [
    {
     "data": {
      "text/plain": [
       "12"
      ]
     },
     "execution_count": 5,
     "metadata": {},
     "output_type": "execute_result"
    }
   ],
   "execution_count": 5
  },
  {
   "metadata": {},
   "cell_type": "markdown",
   "source": "要改变张量的形状而不改变元素数量和元素值，用`reshape`",
   "id": "9c9b6b62f86e94b"
  },
  {
   "metadata": {
    "ExecuteTime": {
     "end_time": "2025-03-14T05:56:50.201009Z",
     "start_time": "2025-03-14T05:56:50.190010Z"
    }
   },
   "cell_type": "code",
   "source": [
    "x = x.reshape(3,4)\n",
    "x"
   ],
   "id": "23169fac158d31c5",
   "outputs": [
    {
     "data": {
      "text/plain": [
       "tensor([[ 0,  1,  2,  3],\n",
       "        [ 4,  5,  6,  7],\n",
       "        [ 8,  9, 10, 11]])"
      ]
     },
     "execution_count": 7,
     "metadata": {},
     "output_type": "execute_result"
    }
   ],
   "execution_count": 7
  },
  {
   "metadata": {},
   "cell_type": "markdown",
   "source": "",
   "id": "adc91fcfdb4f9dd5"
  }
 ],
 "metadata": {
  "kernelspec": {
   "display_name": "Python 3",
   "language": "python",
   "name": "python3"
  },
  "language_info": {
   "codemirror_mode": {
    "name": "ipython",
    "version": 2
   },
   "file_extension": ".py",
   "mimetype": "text/x-python",
   "name": "python",
   "nbconvert_exporter": "python",
   "pygments_lexer": "ipython2",
   "version": "2.7.6"
  }
 },
 "nbformat": 4,
 "nbformat_minor": 5
}
